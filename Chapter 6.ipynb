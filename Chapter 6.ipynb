{
 "cells": [
  {
   "cell_type": "code",
   "execution_count": 5,
   "id": "edea0f23",
   "metadata": {},
   "outputs": [],
   "source": [
    "import yfinance as yf\n",
    "import numpy as np\n",
    "import pandas as pd\n",
    "import scipy.optimize as opt\n",
    "from chapter_6 import Strategy, Engine"
   ]
  },
  {
   "cell_type": "code",
   "execution_count": 6,
   "id": "72ad62f8",
   "metadata": {},
   "outputs": [],
   "source": [
    "START_DATE_DATA = \"2023-07-01\"\n",
    "START_DATE_REBALANCE = \"2024-01-01\"\n",
    "END_DATE = \"2024-12-31\"\n",
    "ASSETS = [\"AAPL\", \"MSFT\", \"GOOGL\", \"AMZN\", \"BRK-B\"]\n",
    "\n",
    "data = {\n",
    "    asset: yf.Ticker(asset)\n",
    "    .history(\n",
    "        start=START_DATE_DATA,\n",
    "        end=END_DATE) \n",
    "    for asset in ASSETS\n",
    "    }\n",
    " \n",
    "data = {\n",
    "    asset: data[asset].tz_localize(None)\n",
    "    for asset in ASSETS\n",
    "    }\n",
    " \n",
    "returns = pd.DataFrame(\n",
    "    {\n",
    "        asset: data[asset][\"Close\"]\n",
    "        for asset in ASSETS\n",
    "     }).pct_change().dropna()\n"
   ]
  },
  {
   "cell_type": "code",
   "execution_count": 7,
   "id": "eb3a887c",
   "metadata": {},
   "outputs": [],
   "source": [
    "def sharpe_ratio(weights, ret_subset):\n",
    "\n",
    "    mean_returns = ret_subset.mean() * 252\n",
    "    cov_returns = ret_subset.cov() * 252\n",
    "\n",
    "    port_ret = np.dot(\n",
    "        weights,\n",
    "        mean_returns\n",
    "        )    \n",
    "    port_vol = np.sqrt(\n",
    "        np.dot(\n",
    "            weights,\n",
    "            np.dot(\n",
    "                cov_returns, weights)\n",
    "            )\n",
    "        )\n",
    "    return -port_ret / port_vol\n"
   ]
  },
  {
   "cell_type": "code",
   "execution_count": 8,
   "id": "cbc8ca83",
   "metadata": {},
   "outputs": [],
   "source": [
    "# DECLARE PARAMETERS\n",
    "NUM_ASSETS = len(ASSETS)\n",
    "CONSTRAINTS = {\n",
    "    \"type\": \"eq\",\n",
    "    \"fun\": lambda x: np.sum(x) - 1\n",
    "    }\n",
    "BOUNDARIES = [(0.1, 1.0)] * NUM_ASSETS\n",
    "INITIAL_WEIGHTS = np.full(\n",
    "    NUM_ASSETS, 1.0 / NUM_ASSETS\n",
    "    )\n",
    "REBALANCE_DATES = pd.date_range(\n",
    "    start=START_DATE_REBALANCE,\n",
    "    end=END_DATE,\n",
    "    freq=\"MS\"\n",
    ")\n",
    " \n",
    "# RUN OPTIMIZATION\n",
    "optimal_weights = {}\n",
    "for date in REBALANCE_DATES:\n",
    "    lookback_start = date - pd.DateOffset(months=6)\n",
    "    ret_subset = returns.loc[\n",
    "        lookback_start : date - pd.Timedelta(days=1)\n",
    "        ]\n",
    "    opt_result = opt.minimize(\n",
    "        sharpe_ratio,\n",
    "        INITIAL_WEIGHTS,\n",
    "        args=(ret_subset,),\n",
    "        method=\"SLSQP\",\n",
    "        bounds=BOUNDARIES,\n",
    "        constraints=CONSTRAINTS,\n",
    "    )\n",
    "    if opt_result.success:\n",
    "        optimal_weights[date] = dict(\n",
    "            zip(ASSETS, opt_result.x)\n",
    "        )\n",
    " \n"
   ]
  },
  {
   "cell_type": "code",
   "execution_count": null,
   "id": "135b7a24",
   "metadata": {},
   "outputs": [
    {
     "name": "stderr",
     "output_type": "stream",
     "text": [
      "100%|██████████| 251/251 [00:00<00:00, 7306.79it/s]"
     ]
    },
    {
     "name": "stdout",
     "output_type": "stream",
     "text": [
      "Ann. Returns [%]:  31.01\n",
      "Ann. Volatility [%]:  14.19\n",
      "Sharpe Ratio:  1.91\n",
      "Max Drawdown [%]:  -9.01\n",
      "Exposure [%]:  98.99803454977366\n",
      "Trade Journal: \n"
     ]
    },
    {
     "name": "stderr",
     "output_type": "stream",
     "text": [
      "\n"
     ]
    }
   ],
   "source": [
    "class RebalanceExposure(Strategy):\n",
    "    def __init__(self, weights):\n",
    "        super().__init__()\n",
    "        self.weights = pd.DataFrame.from_dict(weights).T\n",
    "        # LAST REBALANCE MONTH\n",
    "        self.lbm = 0\n",
    " \n",
    "    def on_bar(self):\n",
    "        if  (\n",
    "            self.lbm != self.current_idx.month\n",
    "            ):\n",
    "            weights = (self.weights\n",
    "                       .loc[:self.current_idx]\n",
    "                       .iloc[-1]\n",
    "                       )\n",
    "            self.rebalance(weights)\n",
    "            self.lbm = self.current_idx.month\n",
    " \n",
    " \n",
    "e = Engine()\n",
    "for ticker in data:\n",
    "    prices = data[ticker].loc[START_DATE_REBALANCE:]\n",
    "    e.add_data(prices, ticker)\n",
    " \n",
    "e.add_strategy(\n",
    "    RebalanceExposure(\n",
    "        weights=optimal_weights\n",
    "        )\n",
    "    )\n",
    "out = e.run()\n",
    "print('Ann. Returns [%]: ',round(out['annualized_returns'],2))\n",
    "print('Ann. Volatility [%]: ',round(out['volatility'],2))\n",
    "print('Sharpe Ratio: ',round(out['sharpe_ratio'],2))\n",
    "print('Max Drawdown [%]: ',round(out['max_drawdown'],2))\n",
    "print('Exposure [%]: ',out['exposure'])\n"
   ]
  },
  {
   "cell_type": "code",
   "execution_count": 12,
   "id": "7b104442",
   "metadata": {},
   "outputs": [
    {
     "name": "stderr",
     "output_type": "stream",
     "text": [
      "100%|██████████| 251/251 [00:00<00:00, 7359.35it/s]"
     ]
    },
    {
     "name": "stdout",
     "output_type": "stream",
     "text": [
      "Ann. Returns [%]:  35.03\n",
      "Ann. Volatility [%]:  16.58\n",
      "Sharpe Ratio:  1.82\n",
      "Max Drawdown [%]:  -12.3\n",
      "Exposure [%]:  99.02805840949998\n"
     ]
    },
    {
     "name": "stderr",
     "output_type": "stream",
     "text": [
      "\n"
     ]
    }
   ],
   "source": [
    "class EqualWeight(Strategy):\n",
    "    def __init__(self):\n",
    "        super().__init__()\n",
    "        self.lbm = 0\n",
    " \n",
    "    def on_bar(self):\n",
    "        if  (\n",
    "            self.lbm != self.current_idx.month\n",
    "            ):\n",
    "            weights = {\n",
    "                ticker: 1 / len(self.tickers) \n",
    "                for ticker in self.tickers\n",
    "            } \n",
    "            self.rebalance(weights)\n",
    "            self.lbm = self.current_idx.month\n",
    "\n",
    "e = Engine()\n",
    "for ticker in data:\n",
    "    prices = data[ticker].loc[START_DATE_REBALANCE:]\n",
    "    e.add_data(prices, ticker)\n",
    " \n",
    "e.add_strategy(\n",
    "    EqualWeight()\n",
    "    )\n",
    "out = e.run()\n",
    "print('Ann. Returns [%]: ',round(out['annualized_returns'],2))\n",
    "print('Ann. Volatility [%]: ',round(out['volatility'],2))\n",
    "print('Sharpe Ratio: ',round(out['sharpe_ratio'],2))\n",
    "print('Max Drawdown [%]: ',round(out['max_drawdown'],2))\n",
    "print('Exposure [%]: ',out['exposure'])"
   ]
  },
  {
   "cell_type": "code",
   "execution_count": null,
   "id": "467f0557",
   "metadata": {},
   "outputs": [],
   "source": []
  }
 ],
 "metadata": {
  "kernelspec": {
   "display_name": "book",
   "language": "python",
   "name": "python3"
  },
  "language_info": {
   "codemirror_mode": {
    "name": "ipython",
    "version": 3
   },
   "file_extension": ".py",
   "mimetype": "text/x-python",
   "name": "python",
   "nbconvert_exporter": "python",
   "pygments_lexer": "ipython3",
   "version": "3.13.2"
  }
 },
 "nbformat": 4,
 "nbformat_minor": 5
}
