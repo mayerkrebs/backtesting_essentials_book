{
 "cells": [
  {
   "cell_type": "markdown",
   "id": "c9e5bd8b",
   "metadata": {},
   "source": [
    "## Broker Fees"
   ]
  },
  {
   "cell_type": "code",
   "execution_count": 4,
   "id": "2474ff01",
   "metadata": {},
   "outputs": [
    {
     "name": "stderr",
     "output_type": "stream",
     "text": [
      "100%|██████████| 711/711 [00:00<00:00, 4355.22it/s]\n"
     ]
    },
    {
     "data": {
      "text/plain": [
       "{'total_return': np.float64(-47.400008887052536)}"
      ]
     },
     "execution_count": 4,
     "metadata": {},
     "output_type": "execute_result"
    }
   ],
   "source": [
    "from chapter_4 import Strategy, Engine, CustomBrokerFee\n",
    "import yfinance as yf\n",
    "\n",
    "class BuyAndSellSwitch(Strategy):\n",
    "    def on_bar(self):\n",
    "        for ticker in self.tickers:\n",
    "            if self.position_size(ticker) == 0:\n",
    "                self.buy(\n",
    "                    ticker,\n",
    "                    size=25000)\n",
    "            else:\n",
    "                self.sell(\n",
    "                    ticker, \n",
    "                    size=self.position_size(ticker))\n",
    "\n",
    "\n",
    "TICKER = 'AHG'\n",
    "START_DATE = '2022-01-01'\n",
    "END_DATE = '2024-10-31'\n",
    "data = yf.Ticker(TICKER).history(start=START_DATE, end=END_DATE, interval='1d', auto_adjust=True)\n",
    "e_tc = Engine()\n",
    "fees = CustomBrokerFee()\n",
    "e_tc.add_broker_fee_model(fees)\n",
    "e_tc.add_data(data, TICKER)\n",
    "e_tc.add_strategy(BuyAndSellSwitch())\n",
    "e_tc.run()\n",
    "\n"
   ]
  },
  {
   "cell_type": "markdown",
   "id": "12b75e26",
   "metadata": {},
   "source": [
    "## Market Impact"
   ]
  },
  {
   "cell_type": "code",
   "execution_count": 1,
   "id": "c93e9d73",
   "metadata": {},
   "outputs": [
    {
     "name": "stderr",
     "output_type": "stream",
     "text": [
      "100%|██████████| 711/711 [00:00<00:00, 2277.25it/s]\n"
     ]
    },
    {
     "data": {
      "text/plain": [
       "{'total_return': np.float64(-21.75216492405221)}"
      ]
     },
     "execution_count": 1,
     "metadata": {},
     "output_type": "execute_result"
    }
   ],
   "source": [
    "from chapter_4 import Strategy, Engine, MarketImpact\n",
    "import yfinance as yf\n",
    "import math\n",
    " \n",
    "TICKER = 'AHG'\n",
    "START_DATE = '2022-01-01'\n",
    "END_DATE = '2024-10-31'\n",
    " \n",
    "data = yf.Ticker(TICKER).history(\n",
    "    start=START_DATE, \n",
    "    end=END_DATE, \n",
    "    interval='1d'\n",
    "    )\n",
    " \n",
    "class BuyAndSellSwitchMarketImpact(Strategy):\n",
    "    def on_bar(self):\n",
    "        for ticker in self.tickers:\n",
    "            if self.position_size(ticker) == 0:\n",
    "                order_size = math.floor(\n",
    "                    0.95 * self.cash\n",
    "                    / self.close(ticker)\n",
    "                )\n",
    "                self.buy(\n",
    "                    ticker, \n",
    "                    size=order_size\n",
    "                    )\n",
    "            else:\n",
    "                self.sell(\n",
    "                    ticker, \n",
    "                    size=self.position_size(ticker), \n",
    "                    )\n",
    "                \n",
    "e = Engine(initial_cash=1_000)\n",
    "e.max_participation_rate=999\n",
    "market_impact = MarketImpact()\n",
    "e.add_market_impact_model(market_impact)\n",
    "e.add_data(data, TICKER)\n",
    "e.add_strategy(BuyAndSellSwitchMarketImpact())\n",
    "e.run()   \n"
   ]
  }
 ],
 "metadata": {
  "kernelspec": {
   "display_name": "book",
   "language": "python",
   "name": "python3"
  },
  "language_info": {
   "codemirror_mode": {
    "name": "ipython",
    "version": 3
   },
   "file_extension": ".py",
   "mimetype": "text/x-python",
   "name": "python",
   "nbconvert_exporter": "python",
   "pygments_lexer": "ipython3",
   "version": "3.13.2"
  }
 },
 "nbformat": 4,
 "nbformat_minor": 5
}
