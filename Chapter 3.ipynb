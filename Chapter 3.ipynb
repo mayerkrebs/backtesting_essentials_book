{
 "cells": [
  {
   "cell_type": "code",
   "execution_count": 1,
   "id": "2a73ec35",
   "metadata": {},
   "outputs": [
    {
     "name": "stderr",
     "output_type": "stream",
     "text": [
      "100%|██████████| 43/43 [00:00<00:00, 3179.52it/s]\n"
     ]
    },
    {
     "data": {
      "text/plain": [
       "{'total_return': np.float64(0.5891581260499601)}"
      ]
     },
     "execution_count": 1,
     "metadata": {},
     "output_type": "execute_result"
    }
   ],
   "source": [
    "from chapter_3 import Engine, Strategy\n",
    "import yfinance as yf\n",
    "\n",
    "TICKER = 'AAPL'\n",
    "START_DATE = '2024-10-01'\n",
    "END_DATE = '2024-11-30'\n",
    " \n",
    "class BuyAndSellLimit(Strategy):\n",
    "    def on_bar(self):\n",
    "        for ticker in self.tickers:\n",
    "            if self.position_size(ticker) == 0:\n",
    "                lp = self.close(ticker) * 0.995\n",
    "                self.buy_limit(\n",
    "                    ticker,\n",
    "                    size=100,\n",
    "                    limit_price=lp\n",
    "                )\n",
    "            else:\n",
    "                lp = self.close(ticker) * 1.005\n",
    "                position = self.position_size(ticker)\n",
    "                self.sell_limit(\n",
    "                    ticker,\n",
    "                    size=position,\n",
    "                    limit_price=lp\n",
    "                )\n",
    "            \n",
    "data = yf.Ticker(TICKER).history(\n",
    "    start=START_DATE,\n",
    "    end=END_DATE,\n",
    "    interval='1d')\n",
    " \n",
    "e = Engine()\n",
    "e.add_data(data, TICKER)\n",
    "e.add_strategy(BuyAndSellLimit())\n",
    "e.run() \n"
   ]
  }
 ],
 "metadata": {
  "kernelspec": {
   "display_name": "book",
   "language": "python",
   "name": "python3"
  },
  "language_info": {
   "codemirror_mode": {
    "name": "ipython",
    "version": 3
   },
   "file_extension": ".py",
   "mimetype": "text/x-python",
   "name": "python",
   "nbconvert_exporter": "python",
   "pygments_lexer": "ipython3",
   "version": "3.13.2"
  }
 },
 "nbformat": 4,
 "nbformat_minor": 5
}
