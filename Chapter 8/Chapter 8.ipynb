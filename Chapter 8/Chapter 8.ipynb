{
 "cells": [
  {
   "cell_type": "code",
   "execution_count": 1,
   "id": "c8a39a2a",
   "metadata": {},
   "outputs": [],
   "source": [
    "from chapter_8 import BrinsonAttribution\n",
    "\n",
    "strat_weights = {\n",
    "    'CVX': 0.30,\n",
    "    'XOM': 0.20,\n",
    "    'JPM': 0.20,\n",
    "    'BAC': 0.10,\n",
    "    'AAPL': 0.10,\n",
    "    'MSFT': 0.10\n",
    "}\n",
    "bench_weights = {\n",
    "    'XLE': 0.40,\n",
    "    'XLF': 0.50,\n",
    "    'XLK': 0.10\n",
    "}\n",
    "strat_returns = {\n",
    "    'CVX': 0.10,\n",
    "    'XOM': 0.15,\n",
    "    'JPM': 0.01,\n",
    "    'BAC': 0.04,\n",
    "    'AAPL': 0.09,\n",
    "    'MSFT': 0.07\n",
    "}\n",
    "bench_returns = {\n",
    "    'XLE': 0.10,\n",
    "    'XLF': 0.05,\n",
    "    'XLK': 0.06\n",
    "}\n",
    "\n",
    "strat_classes = {\n",
    "    'CVX': 'Energy',\n",
    "    'XOM': 'Energy',\n",
    "    'JPM': 'Financials',\n",
    "    'BAC': 'Financials',\n",
    "    'AAPL': 'Technology',\n",
    "    'MSFT': 'Technology'\n",
    "}\n",
    "bench_classes = {\n",
    "    'XLE': 'Energy',\n",
    "    'XLF': 'Financials',\n",
    "    'XLK': 'Technology'\n",
    "}\n"
   ]
  },
  {
   "cell_type": "code",
   "execution_count": 2,
   "id": "67adad14",
   "metadata": {},
   "outputs": [
    {
     "name": "stdout",
     "output_type": "stream",
     "text": [
      "Attribution Summary:\n",
      "Allocation: 0.006000\n",
      "Selection: -0.005000\n",
      "Interaction: 0.010000\n",
      "Total Excess: 0.011000\n",
      "\n",
      "Sector Table:\n",
      "Financials: {'Portfolio Weight': 0.30000000000000004, 'Benchmark Weight': 0.5, 'Portfolio Return': 0.019999999999999997, 'Benchmark Return': 0.05}\n",
      "Energy: {'Portfolio Weight': 0.5, 'Benchmark Weight': 0.4, 'Portfolio Return': 0.12, 'Benchmark Return': 0.10000000000000002}\n",
      "Technology: {'Portfolio Weight': 0.2, 'Benchmark Weight': 0.1, 'Portfolio Return': 0.08, 'Benchmark Return': 0.06}\n"
     ]
    }
   ],
   "source": [
    "model = BrinsonAttribution(\n",
    "    strat_weights=strat_weights,\n",
    "    bench_weights=bench_weights,\n",
    "    strat_returns=strat_returns,\n",
    "    bench_returns=bench_returns,\n",
    "    strat_classes=strat_classes,\n",
    "    bench_classes=bench_classes\n",
    ")\n",
    "result = model.run()\n",
    " \n",
    "print(\"Attribution Summary:\")\n",
    "for k, v in result['Attribution'].items():\n",
    "    print(f\"{k}: {v:.6f}\")\n",
    " \n",
    "print(\"\\nSector Table:\")\n",
    "for sector, row in result['Sector Table'].items():\n",
    "    print(f\"{sector}: {row}\")\n"
   ]
  },
  {
   "cell_type": "code",
   "execution_count": null,
   "id": "4c82f633",
   "metadata": {},
   "outputs": [],
   "source": []
  }
 ],
 "metadata": {
  "kernelspec": {
   "display_name": "book",
   "language": "python",
   "name": "python3"
  },
  "language_info": {
   "codemirror_mode": {
    "name": "ipython",
    "version": 3
   },
   "file_extension": ".py",
   "mimetype": "text/x-python",
   "name": "python",
   "nbconvert_exporter": "python",
   "pygments_lexer": "ipython3",
   "version": "3.13.2"
  }
 },
 "nbformat": 4,
 "nbformat_minor": 5
}
