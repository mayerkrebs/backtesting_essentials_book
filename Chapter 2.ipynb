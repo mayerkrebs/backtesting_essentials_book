{
 "cells": [
  {
   "cell_type": "code",
   "execution_count": 2,
   "id": "65e53f05",
   "metadata": {},
   "outputs": [
    {
     "name": "stderr",
     "output_type": "stream",
     "text": [
      "100%|██████████| 43/43 [00:00<00:00, 2963.59it/s]\n"
     ]
    },
    {
     "data": {
      "text/plain": [
       "{'total_return': np.float64(0.002579080578746229)}"
      ]
     },
     "execution_count": 2,
     "metadata": {},
     "output_type": "execute_result"
    }
   ],
   "source": [
    "import yfinance as yf\n",
    "from chapter_2 import Engine, Strategy\n",
    "TICKERS = ['AAPL', 'MSFT']\n",
    "START_DATE = '2024-10-01'\n",
    "END_DATE = '2024-11-30'\n",
    " \n",
    "class BuyAndSell(Strategy):\n",
    "    def on_bar(self):\n",
    "        for ticker in self.tickers:\n",
    "            if self.position_size(ticker) == 0:\n",
    "                self.buy(\n",
    "                    ticker,\n",
    "                    1\n",
    "                )\n",
    "            else:\n",
    "                self.sell(\n",
    "                    ticker,\n",
    "                    self.position_size(ticker)\n",
    "                )\n",
    "    \n",
    "e = Engine()\n",
    "for ticker in TICKERS:\n",
    "    data = yf.Ticker(ticker).history(\n",
    "        start=START_DATE,\n",
    "        end=END_DATE,\n",
    "        interval='1d'\n",
    "    )\n",
    "    e.add_data(data, ticker)\n",
    "    \n",
    "e.add_strategy(BuyAndSell())\n",
    "e.run()\n"
   ]
  },
  {
   "cell_type": "code",
   "execution_count": 6,
   "id": "d38c0179",
   "metadata": {},
   "outputs": [
    {
     "data": {
      "text/plain": [
       "[<Trade: 2024-10-02 AAPL BUY 1@225.10>,\n",
       " <Trade: 2024-10-02 MSFT BUY 1@420.89>,\n",
       " <Trade: 2024-10-03 AAPL SELL 1@224.35>,\n",
       " <Trade: 2024-10-03 MSFT SELL 1@415.96>,\n",
       " <Trade: 2024-10-04 AAPL BUY 1@227.10>,\n",
       " <Trade: 2024-10-04 MSFT BUY 1@416.57>,\n",
       " <Trade: 2024-10-07 AAPL SELL 1@223.71>,\n",
       " <Trade: 2024-10-07 MSFT SELL 1@414.34>,\n",
       " <Trade: 2024-10-08 AAPL BUY 1@223.51>,\n",
       " <Trade: 2024-10-08 MSFT BUY 1@409.26>]"
      ]
     },
     "execution_count": 6,
     "metadata": {},
     "output_type": "execute_result"
    }
   ],
   "source": [
    "e.strategy.trades[:10]"
   ]
  },
  {
   "cell_type": "code",
   "execution_count": null,
   "id": "287b175c",
   "metadata": {},
   "outputs": [],
   "source": []
  }
 ],
 "metadata": {
  "kernelspec": {
   "display_name": "book",
   "language": "python",
   "name": "python3"
  },
  "language_info": {
   "codemirror_mode": {
    "name": "ipython",
    "version": 3
   },
   "file_extension": ".py",
   "mimetype": "text/x-python",
   "name": "python",
   "nbconvert_exporter": "python",
   "pygments_lexer": "ipython3",
   "version": "3.13.2"
  }
 },
 "nbformat": 4,
 "nbformat_minor": 5
}
